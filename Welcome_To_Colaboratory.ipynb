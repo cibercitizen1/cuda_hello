{
  "cells": [
    {
      "cell_type": "markdown",
      "metadata": {
        "id": "view-in-github",
        "colab_type": "text"
      },
      "source": [
        "<a href=\"https://colab.research.google.com/github/cibercitizen1/cuda_hello/blob/main/Welcome_To_Colaboratory.ipynb\" target=\"_parent\"><img src=\"https://colab.research.google.com/assets/colab-badge.svg\" alt=\"Open In Colab\"/></a>"
      ]
    },
    {
      "cell_type": "code",
      "source": [
        "!nvcc --version\n"
      ],
      "metadata": {
        "colab": {
          "base_uri": "https://localhost:8080/"
        },
        "id": "liK2l-IVWIcR",
        "outputId": "0c932764-9f44-4b14-908f-7059dffee038"
      },
      "execution_count": 1,
      "outputs": [
        {
          "output_type": "stream",
          "name": "stdout",
          "text": [
            "nvcc: NVIDIA (R) Cuda compiler driver\n",
            "Copyright (c) 2005-2021 NVIDIA Corporation\n",
            "Built on Sun_Feb_14_21:12:58_PST_2021\n",
            "Cuda compilation tools, release 11.2, V11.2.152\n",
            "Build cuda_11.2.r11.2/compiler.29618528_0\n"
          ]
        }
      ]
    },
    {
      "cell_type": "code",
      "source": [
        "!pip install git+https://github.com/andreinechaev/nvcc4jupyter.git\n"
      ],
      "metadata": {
        "colab": {
          "base_uri": "https://localhost:8080/"
        },
        "id": "VxYOiK5mWOAh",
        "outputId": "c7eebc83-ba12-49f0-bae5-9ac4b4748f23"
      },
      "execution_count": 2,
      "outputs": [
        {
          "output_type": "stream",
          "name": "stdout",
          "text": [
            "Looking in indexes: https://pypi.org/simple, https://us-python.pkg.dev/colab-wheels/public/simple/\n",
            "Collecting git+https://github.com/andreinechaev/nvcc4jupyter.git\n",
            "  Cloning https://github.com/andreinechaev/nvcc4jupyter.git to /tmp/pip-req-build-yqfsoygc\n",
            "  Running command git clone --filter=blob:none --quiet https://github.com/andreinechaev/nvcc4jupyter.git /tmp/pip-req-build-yqfsoygc\n",
            "  Resolved https://github.com/andreinechaev/nvcc4jupyter.git to commit aac710a35f52bb78ab34d2e52517237941399eff\n",
            "  Preparing metadata (setup.py) ... \u001b[?25l\u001b[?25hdone\n",
            "Building wheels for collected packages: NVCCPlugin\n",
            "  Building wheel for NVCCPlugin (setup.py) ... \u001b[?25l\u001b[?25hdone\n",
            "  Created wheel for NVCCPlugin: filename=NVCCPlugin-0.0.2-py3-none-any.whl size=4304 sha256=1b90098fec2f6d41af785690ba3605a4d10f6dbb7fe9eff0497c1b08a3da7a02\n",
            "  Stored in directory: /tmp/pip-ephem-wheel-cache-xkcky86k/wheels/f3/08/cc/e2b5b0e1c92df07dbb50a6f024a68ce090f5e7b2316b41756d\n",
            "Successfully built NVCCPlugin\n",
            "Installing collected packages: NVCCPlugin\n",
            "Successfully installed NVCCPlugin-0.0.2\n"
          ]
        }
      ]
    },
    {
      "cell_type": "code",
      "source": [
        "%load_ext nvcc_plugin"
      ],
      "metadata": {
        "colab": {
          "base_uri": "https://localhost:8080/"
        },
        "id": "DEV5vdolWTXh",
        "outputId": "994e70c3-e4e6-450d-ed9b-183cdf7d69fb"
      },
      "execution_count": 3,
      "outputs": [
        {
          "output_type": "stream",
          "name": "stdout",
          "text": [
            "created output directory at /content/src\n",
            "Out bin /content/result.out\n"
          ]
        }
      ]
    },
    {
      "cell_type": "code",
      "source": [
        "%%cu\n",
        "// -------------------------------------------------------------\n",
        "// -------------------------------------------------------------\n",
        "#include <cstdio>\n",
        "#include <iostream>\n",
        "\n",
        "// -------------------------------------------------------------\n",
        "// -------------------------------------------------------------\n",
        "using namespace std;\n",
        "\n",
        "// -------------------------------------------------------------\n",
        "// Z -> () -> Z\n",
        "// -------------------------------------------------------------\n",
        "__global__ void prueba_kernel(int* p_input, int* p_output) {\n",
        "\n",
        "  // find out what cell I have to use\n",
        "  int idx = (blockIdx.x * blockDim.x) + threadIdx.x;\n",
        "\n",
        "  p_output[idx] = (blockIdx.x * 1000000) + (blockDim.x * 100) + threadIdx.x; + threadIdx.x;\n",
        "  //p_output[idx] = 200 + p_input[idx];\n",
        "\n",
        "}\n",
        "\n",
        "int main() {\n",
        "\n",
        "  //\n",
        "  // input and output local arrays\n",
        "  //\n",
        "  const int N=128;\n",
        "  int numbers[N];\n",
        "  int results[N];\n",
        "\n",
        "  for (int i = 0; i <= N-1; i++) {\n",
        "\tnumbers[i] = i;\n",
        "\tresults[i] = -i;\n",
        "  }\n",
        "\n",
        "\n",
        "  //\n",
        "  // input and output arrays in the device (the GPU)\n",
        "  //\n",
        "  int* p_in;\n",
        "  int* p_out;\n",
        "  int tam = N * sizeof(int);\n",
        "\n",
        "  cudaMalloc(&p_in, tam);\n",
        "  cudaMalloc(&p_out, tam);\n",
        "\n",
        "  //\n",
        "  // copy to device\n",
        "  //\n",
        "  cudaMemcpy(p_in, numbers, tam, cudaMemcpyHostToDevice);\n",
        "\n",
        "  dim3 total_blocks( 4 );\n",
        "  dim3 threads_per_block( N/4 );\n",
        "  \n",
        "  // dim3 total_blocks( 1 );\n",
        "  // dim3 threads_per_block( N );\n",
        "\n",
        "  //\n",
        "  // timers\n",
        "  //\n",
        "  cudaEvent_t start; \n",
        "  cudaEvent_t end;\n",
        "  cudaEventCreate(&start);\n",
        "  cudaEventCreate(&end);\n",
        "  \n",
        "  cudaEventRecord(start);\n",
        "\t\n",
        "  //\n",
        "  // start up the kernel(s)\n",
        "  //\n",
        "  prueba_kernel<<<total_blocks, threads_per_block>>>(p_in, p_out);\n",
        "\n",
        "  //\n",
        "  // wait for completion\n",
        "  //\n",
        "  cudaEventRecord(end);\n",
        "  cudaEventSynchronize(end);\n",
        "\n",
        "  //\n",
        "  // copy from device\n",
        "  //\n",
        "  cudaMemcpy(&results[0], p_out,  tam, cudaMemcpyDeviceToHost);\n",
        "\n",
        "  //\n",
        "  // results\n",
        "  //\n",
        "  float time = 0;\n",
        "  cudaEventElapsedTime(&time, start, end);\n",
        "\n",
        "  cout << \"results[1] : \" << results[1] << endl;\n",
        "\n",
        "  cout << \"results[31] : \" << results[31] << endl;\n",
        "  cout << \"results[32] : \" << results[32] << endl;\n",
        "\n",
        "  cout << \"results[63] : \" << results[63] << endl;\n",
        "  cout << \"results[64] : \" << results[64] << endl;\n",
        "  cout << \"results[65] : \" << results[65] << endl;\n",
        "\n",
        "\n",
        "  cout << \"The time required : \";\n",
        "  cout << time << endl;\n",
        "} // main()\n",
        "// -------------------------------------------------------------\n",
        "// -------------------------------------------------------------\n",
        "// -------------------------------------------------------------\n",
        "// -------------------------------------------------------------"
      ],
      "metadata": {
        "colab": {
          "base_uri": "https://localhost:8080/"
        },
        "id": "8v_OM1eJehzs",
        "outputId": "d0f6e889-646b-44ca-d7e0-5d34f1289be7"
      },
      "execution_count": 10,
      "outputs": [
        {
          "output_type": "stream",
          "name": "stdout",
          "text": [
            "results[1] : 3201\n",
            "results[31] : 3231\n",
            "results[32] : 1003200\n",
            "results[63] : 1003231\n",
            "results[64] : 2003200\n",
            "results[65] : 2003201\n",
            "The time required : 0.01984\n",
            "\n"
          ]
        }
      ]
    },
    {
      "cell_type": "code",
      "source": [
        "!ls\n"
      ],
      "metadata": {
        "colab": {
          "base_uri": "https://localhost:8080/"
        },
        "id": "iqYHXApU9Us7",
        "outputId": "8f491624-97db-4cfd-dd74-a80168f88a9c"
      },
      "execution_count": 7,
      "outputs": [
        {
          "output_type": "stream",
          "name": "stdout",
          "text": [
            "sample_data  src\n"
          ]
        }
      ]
    },
    {
      "cell_type": "code",
      "source": [
        "from google.colab import drive\n",
        "drive.mount('/content/drive')"
      ],
      "metadata": {
        "colab": {
          "base_uri": "https://localhost:8080/"
        },
        "id": "oths9WePyIr5",
        "outputId": "3c4198bc-3a6d-4aea-b45e-4c45e3dfd665"
      },
      "execution_count": 9,
      "outputs": [
        {
          "output_type": "stream",
          "name": "stdout",
          "text": [
            "Drive already mounted at /content/drive; to attempt to forcibly remount, call drive.mount(\"/content/drive\", force_remount=True).\n"
          ]
        }
      ]
    }
  ],
  "metadata": {
    "colab": {
      "name": "Welcome To Colaboratory",
      "provenance": [],
      "include_colab_link": true
    },
    "kernelspec": {
      "display_name": "Python 3",
      "name": "python3"
    },
    "gpuClass": "standard",
    "accelerator": "GPU"
  },
  "nbformat": 4,
  "nbformat_minor": 0
}